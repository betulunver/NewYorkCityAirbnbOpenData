{
 "cells": [
  {
   "cell_type": "markdown",
   "id": "a6166693-2cac-45d4-a7a9-7fbd56ef96e7",
   "metadata": {},
   "source": [
    "# 🚀 New York City Airbnb Open Data"
   ]
  },
  {
   "cell_type": "markdown",
   "id": "1565dfa9-cd2f-42a1-9b28-0d664c688451",
   "metadata": {},
   "source": [
    "<img src=\"nyc.webp\" width=\"100%\"/>"
   ]
  },
  {
   "cell_type": "markdown",
   "id": "6fe8e80e-8c29-4631-b4f0-5163db2349a8",
   "metadata": {},
   "source": [
    "### 🔥 Loading Libraries"
   ]
  },
  {
   "cell_type": "code",
   "execution_count": 9,
   "id": "c67d5bd6-34ab-4265-b128-bbd820bf5749",
   "metadata": {},
   "outputs": [],
   "source": [
    "import pandas as pd\n",
    "import numpy as np\n",
    "import matplotlib.pyplot as plt\n",
    "import seaborn as sns\n",
    "\n",
    "import plotly.express as px\n",
    "import plotly.graph_objects as go"
   ]
  },
  {
   "cell_type": "markdown",
   "id": "6b799b33-05e0-4aab-9cd8-f9e337039c7d",
   "metadata": {},
   "source": [
    "### 📚 EDA"
   ]
  },
  {
   "cell_type": "code",
   "execution_count": 3,
   "id": "b031b6b2-2560-4655-a6c1-ba76a53aaa01",
   "metadata": {},
   "outputs": [],
   "source": [
    "df=pd.read_csv(\"AB_NYC_2019.csv\")"
   ]
  },
  {
   "cell_type": "code",
   "execution_count": 4,
   "id": "9dfac92f-adf5-4f74-a5e4-419e8cc3da06",
   "metadata": {},
   "outputs": [
    {
     "data": {
      "text/html": [
       "<div>\n",
       "<style scoped>\n",
       "    .dataframe tbody tr th:only-of-type {\n",
       "        vertical-align: middle;\n",
       "    }\n",
       "\n",
       "    .dataframe tbody tr th {\n",
       "        vertical-align: top;\n",
       "    }\n",
       "\n",
       "    .dataframe thead th {\n",
       "        text-align: right;\n",
       "    }\n",
       "</style>\n",
       "<table border=\"1\" class=\"dataframe\">\n",
       "  <thead>\n",
       "    <tr style=\"text-align: right;\">\n",
       "      <th></th>\n",
       "      <th>id</th>\n",
       "      <th>name</th>\n",
       "      <th>host_id</th>\n",
       "      <th>host_name</th>\n",
       "      <th>neighbourhood_group</th>\n",
       "      <th>neighbourhood</th>\n",
       "      <th>latitude</th>\n",
       "      <th>longitude</th>\n",
       "      <th>room_type</th>\n",
       "      <th>price</th>\n",
       "      <th>minimum_nights</th>\n",
       "      <th>number_of_reviews</th>\n",
       "      <th>last_review</th>\n",
       "      <th>reviews_per_month</th>\n",
       "      <th>calculated_host_listings_count</th>\n",
       "      <th>availability_365</th>\n",
       "    </tr>\n",
       "  </thead>\n",
       "  <tbody>\n",
       "    <tr>\n",
       "      <th>45368</th>\n",
       "      <td>34706620</td>\n",
       "      <td>Trendy open concept Williamsburg loft apartment</td>\n",
       "      <td>261768544</td>\n",
       "      <td>Kori</td>\n",
       "      <td>Brooklyn</td>\n",
       "      <td>Williamsburg</td>\n",
       "      <td>40.71125</td>\n",
       "      <td>-73.96116</td>\n",
       "      <td>Entire home/apt</td>\n",
       "      <td>300</td>\n",
       "      <td>2</td>\n",
       "      <td>5</td>\n",
       "      <td>2019-07-01</td>\n",
       "      <td>2.94</td>\n",
       "      <td>1</td>\n",
       "      <td>57</td>\n",
       "    </tr>\n",
       "    <tr>\n",
       "      <th>40308</th>\n",
       "      <td>31262486</td>\n",
       "      <td>Amazing location with the Manhattan Skyline Vi...</td>\n",
       "      <td>233315839</td>\n",
       "      <td>Kemal</td>\n",
       "      <td>Brooklyn</td>\n",
       "      <td>Williamsburg</td>\n",
       "      <td>40.72085</td>\n",
       "      <td>-73.96116</td>\n",
       "      <td>Private room</td>\n",
       "      <td>105</td>\n",
       "      <td>1</td>\n",
       "      <td>1</td>\n",
       "      <td>2019-01-27</td>\n",
       "      <td>0.18</td>\n",
       "      <td>1</td>\n",
       "      <td>0</td>\n",
       "    </tr>\n",
       "    <tr>\n",
       "      <th>28962</th>\n",
       "      <td>22305350</td>\n",
       "      <td>Bright, clean, private room in good neighborhood</td>\n",
       "      <td>335016</td>\n",
       "      <td>Theresa</td>\n",
       "      <td>Brooklyn</td>\n",
       "      <td>Bushwick</td>\n",
       "      <td>40.70398</td>\n",
       "      <td>-73.92403</td>\n",
       "      <td>Private room</td>\n",
       "      <td>29</td>\n",
       "      <td>2</td>\n",
       "      <td>7</td>\n",
       "      <td>2018-08-13</td>\n",
       "      <td>0.38</td>\n",
       "      <td>1</td>\n",
       "      <td>0</td>\n",
       "    </tr>\n",
       "    <tr>\n",
       "      <th>4908</th>\n",
       "      <td>3513960</td>\n",
       "      <td>AMAZING ROOM ARTSY BKLYN BROWNSTONE</td>\n",
       "      <td>4847926</td>\n",
       "      <td>Shelley</td>\n",
       "      <td>Brooklyn</td>\n",
       "      <td>Flatbush</td>\n",
       "      <td>40.64246</td>\n",
       "      <td>-73.95443</td>\n",
       "      <td>Private room</td>\n",
       "      <td>38</td>\n",
       "      <td>3</td>\n",
       "      <td>76</td>\n",
       "      <td>2019-06-03</td>\n",
       "      <td>1.30</td>\n",
       "      <td>3</td>\n",
       "      <td>253</td>\n",
       "    </tr>\n",
       "    <tr>\n",
       "      <th>24109</th>\n",
       "      <td>19428065</td>\n",
       "      <td>Master Bedroom in a Beautiful, Spacious Home</td>\n",
       "      <td>53480097</td>\n",
       "      <td>Jillian</td>\n",
       "      <td>Brooklyn</td>\n",
       "      <td>Bushwick</td>\n",
       "      <td>40.68683</td>\n",
       "      <td>-73.90733</td>\n",
       "      <td>Private room</td>\n",
       "      <td>60</td>\n",
       "      <td>3</td>\n",
       "      <td>3</td>\n",
       "      <td>2018-10-07</td>\n",
       "      <td>0.23</td>\n",
       "      <td>2</td>\n",
       "      <td>0</td>\n",
       "    </tr>\n",
       "  </tbody>\n",
       "</table>\n",
       "</div>"
      ],
      "text/plain": [
       "             id                                               name    host_id  \\\n",
       "45368  34706620    Trendy open concept Williamsburg loft apartment  261768544   \n",
       "40308  31262486  Amazing location with the Manhattan Skyline Vi...  233315839   \n",
       "28962  22305350   Bright, clean, private room in good neighborhood     335016   \n",
       "4908    3513960                AMAZING ROOM ARTSY BKLYN BROWNSTONE    4847926   \n",
       "24109  19428065       Master Bedroom in a Beautiful, Spacious Home   53480097   \n",
       "\n",
       "      host_name neighbourhood_group neighbourhood  latitude  longitude  \\\n",
       "45368      Kori            Brooklyn  Williamsburg  40.71125  -73.96116   \n",
       "40308     Kemal            Brooklyn  Williamsburg  40.72085  -73.96116   \n",
       "28962   Theresa            Brooklyn      Bushwick  40.70398  -73.92403   \n",
       "4908    Shelley            Brooklyn      Flatbush  40.64246  -73.95443   \n",
       "24109   Jillian            Brooklyn      Bushwick  40.68683  -73.90733   \n",
       "\n",
       "             room_type  price  minimum_nights  number_of_reviews last_review  \\\n",
       "45368  Entire home/apt    300               2                  5  2019-07-01   \n",
       "40308     Private room    105               1                  1  2019-01-27   \n",
       "28962     Private room     29               2                  7  2018-08-13   \n",
       "4908      Private room     38               3                 76  2019-06-03   \n",
       "24109     Private room     60               3                  3  2018-10-07   \n",
       "\n",
       "       reviews_per_month  calculated_host_listings_count  availability_365  \n",
       "45368               2.94                               1                57  \n",
       "40308               0.18                               1                 0  \n",
       "28962               0.38                               1                 0  \n",
       "4908                1.30                               3               253  \n",
       "24109               0.23                               2                 0  "
      ]
     },
     "execution_count": 4,
     "metadata": {},
     "output_type": "execute_result"
    }
   ],
   "source": [
    "df.sample(5)"
   ]
  },
  {
   "cell_type": "code",
   "execution_count": 6,
   "id": "a4f86d5e-739d-4b80-9be6-559399d05474",
   "metadata": {},
   "outputs": [
    {
     "name": "stdout",
     "output_type": "stream",
     "text": [
      "<class 'pandas.core.frame.DataFrame'>\n",
      "RangeIndex: 48895 entries, 0 to 48894\n",
      "Data columns (total 16 columns):\n",
      " #   Column                          Non-Null Count  Dtype  \n",
      "---  ------                          --------------  -----  \n",
      " 0   id                              48895 non-null  int64  \n",
      " 1   name                            48879 non-null  object \n",
      " 2   host_id                         48895 non-null  int64  \n",
      " 3   host_name                       48874 non-null  object \n",
      " 4   neighbourhood_group             48895 non-null  object \n",
      " 5   neighbourhood                   48895 non-null  object \n",
      " 6   latitude                        48895 non-null  float64\n",
      " 7   longitude                       48895 non-null  float64\n",
      " 8   room_type                       48895 non-null  object \n",
      " 9   price                           48895 non-null  int64  \n",
      " 10  minimum_nights                  48895 non-null  int64  \n",
      " 11  number_of_reviews               48895 non-null  int64  \n",
      " 12  last_review                     38843 non-null  object \n",
      " 13  reviews_per_month               38843 non-null  float64\n",
      " 14  calculated_host_listings_count  48895 non-null  int64  \n",
      " 15  availability_365                48895 non-null  int64  \n",
      "dtypes: float64(3), int64(7), object(6)\n",
      "memory usage: 6.0+ MB\n"
     ]
    }
   ],
   "source": [
    "df.info()"
   ]
  },
  {
   "cell_type": "code",
   "execution_count": 8,
   "id": "ec09c8a0-f9c7-44a8-9f00-093bc423f1ab",
   "metadata": {},
   "outputs": [
    {
     "data": {
      "text/plain": [
       "(48895, 16)"
      ]
     },
     "execution_count": 8,
     "metadata": {},
     "output_type": "execute_result"
    }
   ],
   "source": [
    "df.shape"
   ]
  },
  {
   "cell_type": "code",
   "execution_count": 10,
   "id": "98a6f0f6-cc5f-4bc6-b9ea-0de3ca15ba65",
   "metadata": {},
   "outputs": [
    {
     "data": {
      "text/plain": [
       "<AxesSubplot: xlabel='count', ylabel='neighbourhood_group'>"
      ]
     },
     "execution_count": 10,
     "metadata": {},
     "output_type": "execute_result"
    },
    {
     "data": {
      "image/png": "[encoded data removed]",
      "text/plain": [
       "<Figure size 1400x1000 with 1 Axes>"
      ]
     },
     "metadata": {},
     "output_type": "display_data"
    }
   ],
   "source": [
    "plt.figure(figsize=(14,10))\n",
    "plt.xticks(rotation=90)\n",
    "sns.countplot(data=df, y='neighbourhood_group')"
   ]
  },
  {
   "cell_type": "code",
   "execution_count": null,
   "id": "0e11f3c7-2689-414c-bcbb-7345c74998ed",
   "metadata": {},
   "outputs": [],
   "source": []
  }
 ],
 "metadata": {
  "kernelspec": {
   "display_name": "Python 3 (ipykernel)",
   "language": "python",
   "name": "python3"
  },
  "language_info": {
   "codemirror_mode": {
    "name": "ipython",
    "version": 3
   },
   "file_extension": ".py",
   "mimetype": "text/x-python",
   "name": "python",
   "nbconvert_exporter": "python",
   "pygments_lexer": "ipython3",
   "version": "3.9.13"
  }
 },
 "nbformat": 4,
 "nbformat_minor": 5
}
